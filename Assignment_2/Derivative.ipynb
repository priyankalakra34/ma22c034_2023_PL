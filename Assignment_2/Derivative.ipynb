{
  "nbformat": 4,
  "nbformat_minor": 0,
  "metadata": {
    "colab": {
      "provenance": []
    },
    "kernelspec": {
      "name": "python3",
      "display_name": "Python 3"
    },
    "language_info": {
      "name": "python"
    }
  },
  "cells": [
    {
      "cell_type": "code",
      "execution_count": null,
      "metadata": {
        "colab": {
          "base_uri": "https://localhost:8080/"
        },
        "id": "9thDuRHdNKeL",
        "outputId": "a926ff28-1b04-4803-94e6-62a5abbbe702"
      },
      "outputs": [
        {
          "output_type": "stream",
          "name": "stdout",
          "text": [
            "Collecting gitPython\n",
            "  Downloading GitPython-3.1.32-py3-none-any.whl (188 kB)\n",
            "\u001b[?25l     \u001b[90m━━━━━━━━━━━━━━━━━━━━━━━━━━━━━━━━━━━━━━━━\u001b[0m \u001b[32m0.0/188.5 kB\u001b[0m \u001b[31m?\u001b[0m eta \u001b[36m-:--:--\u001b[0m\r\u001b[2K     \u001b[91m━━━━━━━━━━━━━━━━━━━━━━━\u001b[0m\u001b[90m╺\u001b[0m\u001b[90m━━━━━━━━━━━━━━━\u001b[0m \u001b[32m112.6/188.5 kB\u001b[0m \u001b[31m3.4 MB/s\u001b[0m eta \u001b[36m0:00:01\u001b[0m\r\u001b[2K     \u001b[90m━━━━━━━━━━━━━━━━━━━━━━━━━━━━━━━━━━━━━━━\u001b[0m \u001b[32m188.5/188.5 kB\u001b[0m \u001b[31m3.8 MB/s\u001b[0m eta \u001b[36m0:00:00\u001b[0m\n",
            "\u001b[?25hCollecting gitdb<5,>=4.0.1 (from gitPython)\n",
            "  Downloading gitdb-4.0.10-py3-none-any.whl (62 kB)\n",
            "\u001b[?25l     \u001b[90m━━━━━━━━━━━━━━━━━━━━━━━━━━━━━━━━━━━━━━━━\u001b[0m \u001b[32m0.0/62.7 kB\u001b[0m \u001b[31m?\u001b[0m eta \u001b[36m-:--:--\u001b[0m\r\u001b[2K     \u001b[90m━━━━━━━━━━━━━━━━━━━━━━━━━━━━━━━━━━━━━━━━\u001b[0m \u001b[32m62.7/62.7 kB\u001b[0m \u001b[31m6.8 MB/s\u001b[0m eta \u001b[36m0:00:00\u001b[0m\n",
            "\u001b[?25hCollecting smmap<6,>=3.0.1 (from gitdb<5,>=4.0.1->gitPython)\n",
            "  Downloading smmap-5.0.0-py3-none-any.whl (24 kB)\n",
            "Installing collected packages: smmap, gitdb, gitPython\n",
            "Successfully installed gitPython-3.1.32 gitdb-4.0.10 smmap-5.0.0\n"
          ]
        }
      ],
      "source": [
        "!pip install gitPython"
      ]
    },
    {
      "cell_type": "code",
      "source": [
        "def D2(f, x, h=1E-6):\n",
        "\n",
        "    return (f(x-h) - 2*f(x) + f(x+h)) / (h*h)"
      ],
      "metadata": {
        "id": "c1NnaeDXNUXP"
      },
      "execution_count": null,
      "outputs": []
    },
    {
      "cell_type": "code",
      "source": [
        "from math import sin\n",
        "D2(sin, 0.2)"
      ],
      "metadata": {
        "colab": {
          "base_uri": "https://localhost:8080/"
        },
        "id": "Fn657HUKNtkv",
        "outputId": "8392cf4e-6fe0-4043-955f-26cea23a95d9"
      },
      "execution_count": null,
      "outputs": [
        {
          "output_type": "execute_result",
          "data": {
            "text/plain": [
              "-0.19864665468105613"
            ]
          },
          "metadata": {},
          "execution_count": 3
        }
      ]
    },
    {
      "cell_type": "code",
      "source": [
        "-sin(0.2)"
      ],
      "metadata": {
        "colab": {
          "base_uri": "https://localhost:8080/"
        },
        "id": "L7wH9vHONyiI",
        "outputId": "9dccb1b2-d10e-4364-f3f3-ea1c4e56bdd1"
      },
      "execution_count": null,
      "outputs": [
        {
          "output_type": "execute_result",
          "data": {
            "text/plain": [
              "-0.19866933079506122"
            ]
          },
          "metadata": {},
          "execution_count": 4
        }
      ]
    },
    {
      "cell_type": "code",
      "source": [
        "def g(x):\n",
        "\n",
        "    return sin(2*x)\n",
        "D2(g, 0.2)"
      ],
      "metadata": {
        "colab": {
          "base_uri": "https://localhost:8080/"
        },
        "id": "HgPFDMgwN270",
        "outputId": "bb8475a6-6583-46d5-c5cc-f809294a543b"
      },
      "execution_count": null,
      "outputs": [
        {
          "output_type": "execute_result",
          "data": {
            "text/plain": [
              "-1.5576429035490946"
            ]
          },
          "metadata": {},
          "execution_count": 5
        }
      ]
    },
    {
      "cell_type": "code",
      "source": [
        "D2(lambda x: sin(2*x), 0.2) # central diff approximation"
      ],
      "metadata": {
        "colab": {
          "base_uri": "https://localhost:8080/"
        },
        "id": "7VcbUXYXOFn_",
        "outputId": "45e654f9-5dd6-423b-b706-0af87a9869e3"
      },
      "execution_count": null,
      "outputs": [
        {
          "output_type": "execute_result",
          "data": {
            "text/plain": [
              "-1.5576429035490946"
            ]
          },
          "metadata": {},
          "execution_count": 6
        }
      ]
    },
    {
      "cell_type": "code",
      "source": [
        "-4*sin(2* 0.2) # actual 2nd derivative value"
      ],
      "metadata": {
        "colab": {
          "base_uri": "https://localhost:8080/"
        },
        "id": "g_Otr1llOKy0",
        "outputId": "56edf170-c6ea-47b2-a5a8-9b94ae1b483d"
      },
      "execution_count": null,
      "outputs": [
        {
          "output_type": "execute_result",
          "data": {
            "text/plain": [
              "-1.557673369234602"
            ]
          },
          "metadata": {},
          "execution_count": 7
        }
      ]
    },
    {
      "cell_type": "code",
      "source": [
        "print(' h D2 Result Error')\n",
        "for k in range(4,8):\n",
        "    h = 2**(-k)\n",
        "    d2g = D2(lambda x: x**-6, 1, h=h)\n",
        "    e = d2g - 42\n",
        "    print('%.0e %.5f %7.6f' %(h, d2g, e))"
      ],
      "metadata": {
        "colab": {
          "base_uri": "https://localhost:8080/"
        },
        "id": "y781SxeOOPzY",
        "outputId": "0a3d7e43-7e88-4547-d8ff-532c0ba03abc"
      },
      "execution_count": null,
      "outputs": [
        {
          "output_type": "stream",
          "name": "stdout",
          "text": [
            " h D2 Result Error\n",
            "6e-02 42.99863 0.998629\n",
            "3e-02 42.24698 0.246977\n",
            "2e-02 42.06158 0.061579\n",
            "8e-03 42.01538 0.015384\n"
          ]
        }
      ]
    },
    {
      "cell_type": "code",
      "source": [
        "for k in range(1,14):\n",
        "    h = 10**(-k)\n",
        "    d2g = D2(lambda x: x**-6,1, h)\n",
        "    print('%.0e %18.5f' %(h, d2g))"
      ],
      "metadata": {
        "colab": {
          "base_uri": "https://localhost:8080/"
        },
        "id": "ZR4ZdjIMOfvH",
        "outputId": "a66c689d-e974-4abd-a74f-d21887fd94ca"
      },
      "execution_count": null,
      "outputs": [
        {
          "output_type": "stream",
          "name": "stdout",
          "text": [
            "1e-01           44.61504\n",
            "1e-02           42.02521\n",
            "1e-03           42.00025\n",
            "1e-04           42.00000\n",
            "1e-05           41.99999\n",
            "1e-06           42.00074\n",
            "1e-07           41.94423\n",
            "1e-08           47.73959\n",
            "1e-09         -666.13381\n",
            "1e-10            0.00000\n",
            "1e-11            0.00000\n",
            "1e-12   -666133814.77509\n",
            "1e-13  66613381477.50939\n"
          ]
        }
      ]
    },
    {
      "cell_type": "code",
      "source": [],
      "metadata": {
        "id": "WITrJOv2OoRy"
      },
      "execution_count": null,
      "outputs": []
    }
  ]
}