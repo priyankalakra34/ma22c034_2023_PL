{
  "nbformat": 4,
  "nbformat_minor": 0,
  "metadata": {
    "colab": {
      "provenance": [],
      "toc_visible": true
    },
    "kernelspec": {
      "name": "python3",
      "display_name": "Python 3"
    },
    "language_info": {
      "name": "python"
    }
  },
  "cells": [
    {
      "cell_type": "code",
      "execution_count": null,
      "metadata": {
        "colab": {
          "base_uri": "https://localhost:8080/"
        },
        "id": "_dOTdN5D5sCr",
        "outputId": "38b50614-79ba-42ca-bd47-940191c06521"
      },
      "outputs": [
        {
          "output_type": "stream",
          "name": "stdout",
          "text": [
            "Collecting gitPython\n",
            "  Downloading GitPython-3.1.32-py3-none-any.whl (188 kB)\n",
            "\u001b[?25l     \u001b[90m━━━━━━━━━━━━━━━━━━━━━━━━━━━━━━━━━━━━━━━━\u001b[0m \u001b[32m0.0/188.5 kB\u001b[0m \u001b[31m?\u001b[0m eta \u001b[36m-:--:--\u001b[0m\r\u001b[2K     \u001b[90m━━━━━━━━━━━━━━━━━━━━━━━━━━━━━━━━━━━━━━━\u001b[0m \u001b[32m188.5/188.5 kB\u001b[0m \u001b[31m6.1 MB/s\u001b[0m eta \u001b[36m0:00:00\u001b[0m\n",
            "\u001b[?25hCollecting gitdb<5,>=4.0.1 (from gitPython)\n",
            "  Downloading gitdb-4.0.10-py3-none-any.whl (62 kB)\n",
            "\u001b[?25l     \u001b[90m━━━━━━━━━━━━━━━━━━━━━━━━━━━━━━━━━━━━━━━━\u001b[0m \u001b[32m0.0/62.7 kB\u001b[0m \u001b[31m?\u001b[0m eta \u001b[36m-:--:--\u001b[0m\r\u001b[2K     \u001b[90m━━━━━━━━━━━━━━━━━━━━━━━━━━━━━━━━━━━━━━━━\u001b[0m \u001b[32m62.7/62.7 kB\u001b[0m \u001b[31m7.8 MB/s\u001b[0m eta \u001b[36m0:00:00\u001b[0m\n",
            "\u001b[?25hCollecting smmap<6,>=3.0.1 (from gitdb<5,>=4.0.1->gitPython)\n",
            "  Downloading smmap-5.0.0-py3-none-any.whl (24 kB)\n",
            "Installing collected packages: smmap, gitdb, gitPython\n",
            "Successfully installed gitPython-3.1.32 gitdb-4.0.10 smmap-5.0.0\n"
          ]
        }
      ],
      "source": [
        "!pip install gitPython"
      ]
    },
    {
      "cell_type": "code",
      "source": [
        "import math\n",
        "from math import cos,sin\n",
        "\n",
        "a=float(input(\"a(interval started from a)= \"))\n",
        "b=float(input(\"b(interval ended at b)= \"))\n",
        "eps=float(input(\"eps(for accuracy)= \"))\n",
        "\n",
        "fun=input('type your function = ')\n",
        "\n",
        "#---------------------------------------------------------------------------------------------------------------------------\n",
        "#---------------------------------------------------------------------------------------------------------------------------\n",
        "def func():\n",
        "    \"\"\"it convert veriabal fun (which is sting and which contain mathematical expretion) into a mathematical function \"\"\"\n",
        "    return lambda x: eval(fun)\n",
        "\n",
        "\n",
        "def no_of_iterations(a,b,eps):\n",
        "    \"\"\"this function gives number of iterations \"\"\"\n",
        "    i=0\n",
        "    while (b-a)/(2**i)>eps:\n",
        "        i+=1\n",
        "    print(f'number of iterations={i}')\n",
        "    return i\n",
        "\n",
        "\n",
        "def bisection(f, a, b, eps, niters):\n",
        "    \"\"\"this function calculate root with the help of bisection method \"\"\"\n",
        "    if f(a) * f(b) > 0:\n",
        "        return print('f(a) and f(b) must be of apposit sign')\n",
        "    else:\n",
        "        for i in range(niters+1):\n",
        "            if f(a) * f(b) == 0:\n",
        "                if f(a)==0:\n",
        "                    return print(f\"{a} is root of function\")\n",
        "                else:\n",
        "                    return print(f\"{b} is root of function\")\n",
        "            if f(a)*f(b)<0:\n",
        "                c=(a+b)/2\n",
        "                if f(a) * f(c) < 0:\n",
        "                    b=c\n",
        "                else:\n",
        "                    a=c\n",
        "        print(f\"root(using bisection) = {c}\")\n",
        "        print(f\"value of function at root(using bisection)= {f(c)}\")\n",
        "\n",
        "#----------------------------------------------------------------------------------------------------------------------------------\n",
        "f=func()\n",
        "niters=no_of_iterations(a,b,eps)\n",
        "\n",
        "bisection(f,a,b,eps,niters)"
      ],
      "metadata": {
        "id": "2DhT6fK28ORH",
        "colab": {
          "base_uri": "https://localhost:8080/"
        },
        "outputId": "6b6148a6-c710-4a2e-b7fc-fbd7fe10a980"
      },
      "execution_count": null,
      "outputs": [
        {
          "output_type": "stream",
          "name": "stdout",
          "text": [
            "a(interval started from a)= 1\n",
            "b(interval ended at b)= 9\n",
            "eps(for accuracy)= 5\n",
            "type your function = x-1-cos(x)\n",
            "number of iterations=1\n",
            "root(using bisection) = 3.0\n",
            "value of function at root(using bisection)= 2.989992496600445\n"
          ]
        }
      ]
    },
    {
      "cell_type": "code",
      "source": [],
      "metadata": {
        "id": "9wuhNSVWP5f0"
      },
      "execution_count": null,
      "outputs": []
    }
  ]
}